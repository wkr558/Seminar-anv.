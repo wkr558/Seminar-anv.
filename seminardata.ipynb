{
 "cells": [
  {
   "cell_type": "code",
   "execution_count": 1,
   "metadata": {},
   "outputs": [],
   "source": [
    "\n",
    "#loading packages and plot figure layout\n",
    "import pandas as pd\n",
    "from IPython.display import display\n",
    "import numpy as np\n",
    "import matplotlib.pyplot as plt\n",
    "plt.rcParams.update({\"axes.grid\":True,\"grid.color\":\"black\",\"grid.alpha\":\"0.25\",\"grid.linestyle\":\"--\"})\n",
    "plt.rcParams.update({'font.size': 14})\n",
    "\n",
    "#Loading The DST API wrapper (not defined as code, because it has been installed already)\n",
    "# installeret %pip install git+https://github.com/alemartinello/dstapi\n",
    "\n",
    "#downloading a package 'a wrapper for multiple APIs' with a pandas interface (not defined as code, because it has been installed already)\n",
    "# installeret %pip install pandas-datareader\n",
    "\n",
    "#Importing package that allows us to manage dates and time\n",
    "import datetime  \n",
    "import pandas_datareader\n",
    "from dstapi import DstApi\n",
    "\n",
    "#importing the venn diagram package, if a venn diagram is needed\n",
    "#%pip install matplotlib-venn\n",
    "from matplotlib_venn import venn2\n",
    "import matplotlib.pyplot as plt\n",
    "import plotly.graph_objects as go\n"
   ]
  },
  {
   "cell_type": "code",
   "execution_count": 2,
   "metadata": {},
   "outputs": [
    {
     "name": "stdout",
     "output_type": "stream",
     "text": [
      "Table FU04: Consumption by group of consumption, socioeconomic status, price unit and time\n",
      "Last update: 2023-03-29T08:00:00\n"
     ]
    },
    {
     "data": {
      "text/html": [
       "<div>\n",
       "<style scoped>\n",
       "    .dataframe tbody tr th:only-of-type {\n",
       "        vertical-align: middle;\n",
       "    }\n",
       "\n",
       "    .dataframe tbody tr th {\n",
       "        vertical-align: top;\n",
       "    }\n",
       "\n",
       "    .dataframe thead th {\n",
       "        text-align: right;\n",
       "    }\n",
       "</style>\n",
       "<table border=\"1\" class=\"dataframe\">\n",
       "  <thead>\n",
       "    <tr style=\"text-align: right;\">\n",
       "      <th></th>\n",
       "      <th>variable name</th>\n",
       "      <th># values</th>\n",
       "      <th>First value</th>\n",
       "      <th>First value label</th>\n",
       "      <th>Last value</th>\n",
       "      <th>Last value label</th>\n",
       "      <th>Time variable</th>\n",
       "    </tr>\n",
       "  </thead>\n",
       "  <tbody>\n",
       "    <tr>\n",
       "      <th>0</th>\n",
       "      <td>KONSUMGRP</td>\n",
       "      <td>47</td>\n",
       "      <td>1000</td>\n",
       "      <td>CONSUMPTION TOTAL</td>\n",
       "      <td>127000</td>\n",
       "      <td>12.7 Other services n.e.c.</td>\n",
       "      <td>False</td>\n",
       "    </tr>\n",
       "    <tr>\n",
       "      <th>1</th>\n",
       "      <td>SOCIO</td>\n",
       "      <td>9</td>\n",
       "      <td>2001</td>\n",
       "      <td>Average Households</td>\n",
       "      <td>3080</td>\n",
       "      <td>Other not economically active</td>\n",
       "      <td>False</td>\n",
       "    </tr>\n",
       "    <tr>\n",
       "      <th>2</th>\n",
       "      <td>PRISENHED</td>\n",
       "      <td>2</td>\n",
       "      <td>AARPRIS</td>\n",
       "      <td>Current prices</td>\n",
       "      <td>08PRIS</td>\n",
       "      <td>Real prices</td>\n",
       "      <td>False</td>\n",
       "    </tr>\n",
       "    <tr>\n",
       "      <th>3</th>\n",
       "      <td>Tid</td>\n",
       "      <td>28</td>\n",
       "      <td>1994</td>\n",
       "      <td>1994</td>\n",
       "      <td>2021</td>\n",
       "      <td>2021</td>\n",
       "      <td>True</td>\n",
       "    </tr>\n",
       "  </tbody>\n",
       "</table>\n",
       "</div>"
      ],
      "text/plain": [
       "  variable name  # values First value   First value label Last value   \n",
       "0     KONSUMGRP        47        1000   CONSUMPTION TOTAL     127000  \\\n",
       "1         SOCIO         9        2001  Average Households       3080   \n",
       "2     PRISENHED         2     AARPRIS      Current prices     08PRIS   \n",
       "3           Tid        28        1994                1994       2021   \n",
       "\n",
       "                Last value label  Time variable  \n",
       "0     12.7 Other services n.e.c.          False  \n",
       "1  Other not economically active          False  \n",
       "2                    Real prices          False  \n",
       "3                           2021           True  "
      ]
     },
     "metadata": {},
     "output_type": "display_data"
    }
   ],
   "source": [
    "#importing data fom DST\n",
    "ind = DstApi('FU04') \n",
    "tabsum = ind.tablesummary(language='en')\n",
    "display(tabsum)"
   ]
  },
  {
   "cell_type": "code",
   "execution_count": null,
   "metadata": {},
   "outputs": [],
   "source": []
  }
 ],
 "metadata": {
  "kernelspec": {
   "display_name": "base",
   "language": "python",
   "name": "python3"
  },
  "language_info": {
   "codemirror_mode": {
    "name": "ipython",
    "version": 3
   },
   "file_extension": ".py",
   "mimetype": "text/x-python",
   "name": "python",
   "nbconvert_exporter": "python",
   "pygments_lexer": "ipython3",
   "version": "3.10.10"
  },
  "orig_nbformat": 4
 },
 "nbformat": 4,
 "nbformat_minor": 2
}
